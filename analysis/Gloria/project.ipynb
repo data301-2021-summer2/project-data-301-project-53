{
 "cells": [
  {
   "cell_type": "code",
   "execution_count": 196,
   "id": "d595f627-4a3a-43b5-a056-e546efc5a551",
   "metadata": {},
   "outputs": [],
   "source": [
    "import pandas as pd"
   ]
  },
  {
   "cell_type": "code",
   "execution_count": 197,
   "id": "81f6aa20-7ac2-4ba4-b1de-75c35d459a43",
   "metadata": {},
   "outputs": [
    {
     "data": {
      "text/plain": [
       "'/Users/glorialim/Cosc 301/project-data-301-project-53'"
      ]
     },
     "execution_count": 197,
     "metadata": {},
     "output_type": "execute_result"
    }
   ],
   "source": [
    "pwd"
   ]
  },
  {
   "cell_type": "code",
   "execution_count": 198,
   "id": "54ce1ef7-0622-4672-a13b-4c4e6a2355a2",
   "metadata": {},
   "outputs": [
    {
     "name": "stdout",
     "output_type": "stream",
     "text": [
      "CODE_OF_CONDUCT.md  PROJECTHen.ipynb    \u001b[34mdata\u001b[m\u001b[m/               project.ipynb\n",
      "LICENSE             README.md           \u001b[34mimages\u001b[m\u001b[m/\n",
      "LifeExpectancy.csv  \u001b[34manalysis\u001b[m\u001b[m/           \u001b[34mpresentation\u001b[m\u001b[m/\n"
     ]
    }
   ],
   "source": [
    "ls"
   ]
  },
  {
   "cell_type": "code",
   "execution_count": 222,
   "id": "ce78f997-521e-43a1-88a6-9d80c00b426f",
   "metadata": {},
   "outputs": [],
   "source": [
    "#This is the file this is being read\n",
    "df1 = pd.read_csv(\"LifeExpectancy.csv\") \n",
    "#Did not specify the sep parameter, so this file has comma as delimiters"
   ]
  },
  {
   "cell_type": "code",
   "execution_count": 223,
   "id": "61579d7c-dc8c-41ef-9d79-8c742ec756f2",
   "metadata": {
    "tags": []
   },
   "outputs": [
    {
     "data": {
      "text/html": [
       "<div>\n",
       "<style scoped>\n",
       "    .dataframe tbody tr th:only-of-type {\n",
       "        vertical-align: middle;\n",
       "    }\n",
       "\n",
       "    .dataframe tbody tr th {\n",
       "        vertical-align: top;\n",
       "    }\n",
       "\n",
       "    .dataframe thead th {\n",
       "        text-align: right;\n",
       "    }\n",
       "</style>\n",
       "<table border=\"1\" class=\"dataframe\">\n",
       "  <thead>\n",
       "    <tr style=\"text-align: right;\">\n",
       "      <th></th>\n",
       "      <th>Entity</th>\n",
       "      <th>Year</th>\n",
       "      <th>LifeExpectancy</th>\n",
       "    </tr>\n",
       "  </thead>\n",
       "  <tbody>\n",
       "    <tr>\n",
       "      <th>0</th>\n",
       "      <td>Australia</td>\n",
       "      <td>1802</td>\n",
       "      <td>34.049999</td>\n",
       "    </tr>\n",
       "    <tr>\n",
       "      <th>1</th>\n",
       "      <td>Australia</td>\n",
       "      <td>1803</td>\n",
       "      <td>34.049999</td>\n",
       "    </tr>\n",
       "    <tr>\n",
       "      <th>2</th>\n",
       "      <td>Australia</td>\n",
       "      <td>1804</td>\n",
       "      <td>34.049999</td>\n",
       "    </tr>\n",
       "    <tr>\n",
       "      <th>3</th>\n",
       "      <td>Australia</td>\n",
       "      <td>1805</td>\n",
       "      <td>34.049999</td>\n",
       "    </tr>\n",
       "    <tr>\n",
       "      <th>4</th>\n",
       "      <td>Australia</td>\n",
       "      <td>1806</td>\n",
       "      <td>34.049999</td>\n",
       "    </tr>\n",
       "  </tbody>\n",
       "</table>\n",
       "</div>"
      ],
      "text/plain": [
       "      Entity  Year  LifeExpectancy\n",
       "0  Australia  1802       34.049999\n",
       "1  Australia  1803       34.049999\n",
       "2  Australia  1804       34.049999\n",
       "3  Australia  1805       34.049999\n",
       "4  Australia  1806       34.049999"
      ]
     },
     "execution_count": 223,
     "metadata": {},
     "output_type": "execute_result"
    }
   ],
   "source": [
    "df1.head()"
   ]
  },
  {
   "cell_type": "code",
   "execution_count": 224,
   "id": "c47ea909-ead6-4697-a270-5eaba1c70b76",
   "metadata": {},
   "outputs": [
    {
     "data": {
      "text/html": [
       "<div>\n",
       "<style scoped>\n",
       "    .dataframe tbody tr th:only-of-type {\n",
       "        vertical-align: middle;\n",
       "    }\n",
       "\n",
       "    .dataframe tbody tr th {\n",
       "        vertical-align: top;\n",
       "    }\n",
       "\n",
       "    .dataframe thead th {\n",
       "        text-align: right;\n",
       "    }\n",
       "</style>\n",
       "<table border=\"1\" class=\"dataframe\">\n",
       "  <thead>\n",
       "    <tr style=\"text-align: right;\">\n",
       "      <th></th>\n",
       "      <th>Country</th>\n",
       "      <th>Year</th>\n",
       "      <th>LifeExp</th>\n",
       "    </tr>\n",
       "  </thead>\n",
       "  <tbody>\n",
       "    <tr>\n",
       "      <th>0</th>\n",
       "      <td>Australia</td>\n",
       "      <td>1802</td>\n",
       "      <td>34.049999</td>\n",
       "    </tr>\n",
       "    <tr>\n",
       "      <th>1</th>\n",
       "      <td>Australia</td>\n",
       "      <td>1803</td>\n",
       "      <td>34.049999</td>\n",
       "    </tr>\n",
       "    <tr>\n",
       "      <th>2</th>\n",
       "      <td>Australia</td>\n",
       "      <td>1804</td>\n",
       "      <td>34.049999</td>\n",
       "    </tr>\n",
       "    <tr>\n",
       "      <th>3</th>\n",
       "      <td>Australia</td>\n",
       "      <td>1805</td>\n",
       "      <td>34.049999</td>\n",
       "    </tr>\n",
       "    <tr>\n",
       "      <th>4</th>\n",
       "      <td>Australia</td>\n",
       "      <td>1806</td>\n",
       "      <td>34.049999</td>\n",
       "    </tr>\n",
       "    <tr>\n",
       "      <th>...</th>\n",
       "      <td>...</td>\n",
       "      <td>...</td>\n",
       "      <td>...</td>\n",
       "    </tr>\n",
       "    <tr>\n",
       "      <th>3248</th>\n",
       "      <td>United States</td>\n",
       "      <td>2012</td>\n",
       "      <td>78.940002</td>\n",
       "    </tr>\n",
       "    <tr>\n",
       "      <th>3249</th>\n",
       "      <td>United States</td>\n",
       "      <td>2013</td>\n",
       "      <td>78.959999</td>\n",
       "    </tr>\n",
       "    <tr>\n",
       "      <th>3250</th>\n",
       "      <td>United States</td>\n",
       "      <td>2014</td>\n",
       "      <td>78.940002</td>\n",
       "    </tr>\n",
       "    <tr>\n",
       "      <th>3251</th>\n",
       "      <td>United States</td>\n",
       "      <td>2015</td>\n",
       "      <td>78.870003</td>\n",
       "    </tr>\n",
       "    <tr>\n",
       "      <th>3252</th>\n",
       "      <td>United States</td>\n",
       "      <td>2016</td>\n",
       "      <td>78.860001</td>\n",
       "    </tr>\n",
       "  </tbody>\n",
       "</table>\n",
       "<p>3253 rows × 3 columns</p>\n",
       "</div>"
      ],
      "text/plain": [
       "            Country  Year    LifeExp\n",
       "0         Australia  1802  34.049999\n",
       "1         Australia  1803  34.049999\n",
       "2         Australia  1804  34.049999\n",
       "3         Australia  1805  34.049999\n",
       "4         Australia  1806  34.049999\n",
       "...             ...   ...        ...\n",
       "3248  United States  2012  78.940002\n",
       "3249  United States  2013  78.959999\n",
       "3250  United States  2014  78.940002\n",
       "3251  United States  2015  78.870003\n",
       "3252  United States  2016  78.860001\n",
       "\n",
       "[3253 rows x 3 columns]"
      ]
     },
     "execution_count": 224,
     "metadata": {},
     "output_type": "execute_result"
    }
   ],
   "source": [
    "df1.rename(columns={'Entity':'Country'},inplace=True)\n",
    "df1.rename(columns={'LifeExpectancy':'LifeExp'}, inplace=True)\n",
    "#Renamed a data column to understand the data better\n",
    "df1"
   ]
  },
  {
   "cell_type": "code",
   "execution_count": 225,
   "id": "72845b5b-4e06-4236-ae15-8319cad34c11",
   "metadata": {},
   "outputs": [
    {
     "data": {
      "text/plain": [
       "Country\n",
       "Australia         54.290000\n",
       "Brazil            42.392292\n",
       "Canada            55.778533\n",
       "China             41.452839\n",
       "France            53.691717\n",
       "Germany           52.880939\n",
       "India             34.292578\n",
       "Italy             49.226360\n",
       "Japan             50.345707\n",
       "Mexico            40.835629\n",
       "Russia            41.992980\n",
       "Spain             47.588779\n",
       "Switzerland       55.246037\n",
       "United Kingdom    55.591947\n",
       "United States     54.651060\n",
       "Name: LifeExp, dtype: float64"
      ]
     },
     "execution_count": 225,
     "metadata": {},
     "output_type": "execute_result"
    }
   ],
   "source": [
    "avg=(df1.groupby(['Country', 'Year'], as_index=False).mean()\n",
    " .groupby('Country')['LifeExp'].mean())\n",
    "avg\n",
    "#The average of each countries life expectancy"
   ]
  },
  {
   "cell_type": "code",
   "execution_count": 226,
   "id": "eaa4f19e-fe60-4766-88c4-8b137eb710d4",
   "metadata": {},
   "outputs": [
    {
     "data": {
      "text/plain": [
       "0       54.29000\n",
       "1       54.29000\n",
       "2       54.29000\n",
       "3       54.29000\n",
       "4       54.29000\n",
       "          ...   \n",
       "3248    54.65106\n",
       "3249    54.65106\n",
       "3250    54.65106\n",
       "3251    54.65106\n",
       "3252    54.65106\n",
       "Name: LifeExp, Length: 3253, dtype: float64"
      ]
     },
     "execution_count": 226,
     "metadata": {},
     "output_type": "execute_result"
    }
   ],
   "source": [
    "df1.groupby('Country').LifeExp.transform('mean')"
   ]
  },
  {
   "cell_type": "code",
   "execution_count": 230,
   "id": "4cac2a1c-09af-4167-8e3c-4a8b7a5db97f",
   "metadata": {},
   "outputs": [
    {
     "data": {
      "text/html": [
       "<div>\n",
       "<style scoped>\n",
       "    .dataframe tbody tr th:only-of-type {\n",
       "        vertical-align: middle;\n",
       "    }\n",
       "\n",
       "    .dataframe tbody tr th {\n",
       "        vertical-align: top;\n",
       "    }\n",
       "\n",
       "    .dataframe thead th {\n",
       "        text-align: right;\n",
       "    }\n",
       "</style>\n",
       "<table border=\"1\" class=\"dataframe\">\n",
       "  <thead>\n",
       "    <tr style=\"text-align: right;\">\n",
       "      <th></th>\n",
       "      <th>Country</th>\n",
       "      <th>Year</th>\n",
       "      <th>LifeExp</th>\n",
       "      <th>LifeExpAvg</th>\n",
       "    </tr>\n",
       "  </thead>\n",
       "  <tbody>\n",
       "    <tr>\n",
       "      <th>0</th>\n",
       "      <td>Australia</td>\n",
       "      <td>1802</td>\n",
       "      <td>34.049999</td>\n",
       "      <td>54.29000</td>\n",
       "    </tr>\n",
       "    <tr>\n",
       "      <th>1</th>\n",
       "      <td>Australia</td>\n",
       "      <td>1803</td>\n",
       "      <td>34.049999</td>\n",
       "      <td>54.29000</td>\n",
       "    </tr>\n",
       "    <tr>\n",
       "      <th>2</th>\n",
       "      <td>Australia</td>\n",
       "      <td>1804</td>\n",
       "      <td>34.049999</td>\n",
       "      <td>54.29000</td>\n",
       "    </tr>\n",
       "    <tr>\n",
       "      <th>3</th>\n",
       "      <td>Australia</td>\n",
       "      <td>1805</td>\n",
       "      <td>34.049999</td>\n",
       "      <td>54.29000</td>\n",
       "    </tr>\n",
       "    <tr>\n",
       "      <th>4</th>\n",
       "      <td>Australia</td>\n",
       "      <td>1806</td>\n",
       "      <td>34.049999</td>\n",
       "      <td>54.29000</td>\n",
       "    </tr>\n",
       "    <tr>\n",
       "      <th>...</th>\n",
       "      <td>...</td>\n",
       "      <td>...</td>\n",
       "      <td>...</td>\n",
       "      <td>...</td>\n",
       "    </tr>\n",
       "    <tr>\n",
       "      <th>3248</th>\n",
       "      <td>United States</td>\n",
       "      <td>2012</td>\n",
       "      <td>78.940002</td>\n",
       "      <td>54.65106</td>\n",
       "    </tr>\n",
       "    <tr>\n",
       "      <th>3249</th>\n",
       "      <td>United States</td>\n",
       "      <td>2013</td>\n",
       "      <td>78.959999</td>\n",
       "      <td>54.65106</td>\n",
       "    </tr>\n",
       "    <tr>\n",
       "      <th>3250</th>\n",
       "      <td>United States</td>\n",
       "      <td>2014</td>\n",
       "      <td>78.940002</td>\n",
       "      <td>54.65106</td>\n",
       "    </tr>\n",
       "    <tr>\n",
       "      <th>3251</th>\n",
       "      <td>United States</td>\n",
       "      <td>2015</td>\n",
       "      <td>78.870003</td>\n",
       "      <td>54.65106</td>\n",
       "    </tr>\n",
       "    <tr>\n",
       "      <th>3252</th>\n",
       "      <td>United States</td>\n",
       "      <td>2016</td>\n",
       "      <td>78.860001</td>\n",
       "      <td>54.65106</td>\n",
       "    </tr>\n",
       "  </tbody>\n",
       "</table>\n",
       "<p>3253 rows × 4 columns</p>\n",
       "</div>"
      ],
      "text/plain": [
       "            Country  Year    LifeExp  LifeExpAvg\n",
       "0         Australia  1802  34.049999    54.29000\n",
       "1         Australia  1803  34.049999    54.29000\n",
       "2         Australia  1804  34.049999    54.29000\n",
       "3         Australia  1805  34.049999    54.29000\n",
       "4         Australia  1806  34.049999    54.29000\n",
       "...             ...   ...        ...         ...\n",
       "3248  United States  2012  78.940002    54.65106\n",
       "3249  United States  2013  78.959999    54.65106\n",
       "3250  United States  2014  78.940002    54.65106\n",
       "3251  United States  2015  78.870003    54.65106\n",
       "3252  United States  2016  78.860001    54.65106\n",
       "\n",
       "[3253 rows x 4 columns]"
      ]
     },
     "execution_count": 230,
     "metadata": {},
     "output_type": "execute_result"
    }
   ],
   "source": [
    "df1['LifeExpAvg']=df1.groupby('Country').LifeExp.transform('mean')\n",
    "df1"
   ]
  },
  {
   "cell_type": "markdown",
   "id": "241fffdc-e6f5-4e29-97a3-6ebd490b3355",
   "metadata": {},
   "source": [
    "TASK 2: Step 1"
   ]
  },
  {
   "cell_type": "code",
   "execution_count": 231,
   "id": "e0a6f63a-15f3-43a7-9f7c-92d57bc9896b",
   "metadata": {},
   "outputs": [],
   "source": [
    "import numpy as np"
   ]
  },
  {
   "cell_type": "code",
   "execution_count": 233,
   "id": "81c26c03-0e0a-4c43-a9ff-5fbf2651ba81",
   "metadata": {},
   "outputs": [
    {
     "data": {
      "text/html": [
       "<div>\n",
       "<style scoped>\n",
       "    .dataframe tbody tr th:only-of-type {\n",
       "        vertical-align: middle;\n",
       "    }\n",
       "\n",
       "    .dataframe tbody tr th {\n",
       "        vertical-align: top;\n",
       "    }\n",
       "\n",
       "    .dataframe thead th {\n",
       "        text-align: right;\n",
       "    }\n",
       "</style>\n",
       "<table border=\"1\" class=\"dataframe\">\n",
       "  <thead>\n",
       "    <tr style=\"text-align: right;\">\n",
       "      <th></th>\n",
       "      <th>Country</th>\n",
       "      <th>LifeExpectancy</th>\n",
       "      <th>Year</th>\n",
       "      <th>LifeExpAvg</th>\n",
       "    </tr>\n",
       "  </thead>\n",
       "  <tbody>\n",
       "    <tr>\n",
       "      <th>0</th>\n",
       "      <td>Australia</td>\n",
       "      <td>34.049999</td>\n",
       "      <td>1802</td>\n",
       "      <td>54.29000</td>\n",
       "    </tr>\n",
       "    <tr>\n",
       "      <th>1</th>\n",
       "      <td>Australia</td>\n",
       "      <td>65.820000</td>\n",
       "      <td>1939</td>\n",
       "      <td>54.29000</td>\n",
       "    </tr>\n",
       "    <tr>\n",
       "      <th>2</th>\n",
       "      <td>Australia</td>\n",
       "      <td>66.260002</td>\n",
       "      <td>1940</td>\n",
       "      <td>54.29000</td>\n",
       "    </tr>\n",
       "    <tr>\n",
       "      <th>3</th>\n",
       "      <td>Australia</td>\n",
       "      <td>66.139999</td>\n",
       "      <td>1941</td>\n",
       "      <td>54.29000</td>\n",
       "    </tr>\n",
       "    <tr>\n",
       "      <th>4</th>\n",
       "      <td>Australia</td>\n",
       "      <td>65.879997</td>\n",
       "      <td>1942</td>\n",
       "      <td>54.29000</td>\n",
       "    </tr>\n",
       "    <tr>\n",
       "      <th>...</th>\n",
       "      <td>...</td>\n",
       "      <td>...</td>\n",
       "      <td>...</td>\n",
       "      <td>...</td>\n",
       "    </tr>\n",
       "    <tr>\n",
       "      <th>3234</th>\n",
       "      <td>United States</td>\n",
       "      <td>39.410000</td>\n",
       "      <td>1876</td>\n",
       "      <td>54.65106</td>\n",
       "    </tr>\n",
       "    <tr>\n",
       "      <th>3235</th>\n",
       "      <td>United States</td>\n",
       "      <td>39.410000</td>\n",
       "      <td>1877</td>\n",
       "      <td>54.65106</td>\n",
       "    </tr>\n",
       "    <tr>\n",
       "      <th>3236</th>\n",
       "      <td>United States</td>\n",
       "      <td>39.410000</td>\n",
       "      <td>1878</td>\n",
       "      <td>54.65106</td>\n",
       "    </tr>\n",
       "    <tr>\n",
       "      <th>3237</th>\n",
       "      <td>United States</td>\n",
       "      <td>39.410000</td>\n",
       "      <td>1867</td>\n",
       "      <td>54.65106</td>\n",
       "    </tr>\n",
       "    <tr>\n",
       "      <th>3238</th>\n",
       "      <td>United States</td>\n",
       "      <td>78.860001</td>\n",
       "      <td>2016</td>\n",
       "      <td>54.65106</td>\n",
       "    </tr>\n",
       "  </tbody>\n",
       "</table>\n",
       "<p>3239 rows × 4 columns</p>\n",
       "</div>"
      ],
      "text/plain": [
       "            Country  LifeExpectancy  Year  LifeExpAvg\n",
       "0         Australia       34.049999  1802    54.29000\n",
       "1         Australia       65.820000  1939    54.29000\n",
       "2         Australia       66.260002  1940    54.29000\n",
       "3         Australia       66.139999  1941    54.29000\n",
       "4         Australia       65.879997  1942    54.29000\n",
       "...             ...             ...   ...         ...\n",
       "3234  United States       39.410000  1876    54.65106\n",
       "3235  United States       39.410000  1877    54.65106\n",
       "3236  United States       39.410000  1878    54.65106\n",
       "3237  United States       39.410000  1867    54.65106\n",
       "3238  United States       78.860001  2016    54.65106\n",
       "\n",
       "[3239 rows x 4 columns]"
      ]
     },
     "execution_count": 233,
     "metadata": {},
     "output_type": "execute_result"
    }
   ],
   "source": [
    "df2 = (\n",
    "    df1.rename(columns={\"LifeExp\":\"LifeExpectancy\"})\n",
    "    .assign(color_filter=lambda x: np.where((x.Year > 1800) & (x.LifeExpectancy > 0), 1, 0))\n",
    "    .query(\"LifeExpectancy > 1 and color_filter == 1\")\n",
    "    .sort_values('Country', ascending=True)\n",
    "    .reset_index(drop=True)\n",
    "    .loc[:, ['Country', 'LifeExpectancy', 'Year', 'LifeExpAvg']]\n",
    ")\n",
    "\n",
    "df2"
   ]
  },
  {
   "cell_type": "markdown",
   "id": "5eb0bb16-4c8f-4f6c-95c9-fe8fd38f2716",
   "metadata": {},
   "source": [
    "TASK 2: Step 2"
   ]
  },
  {
   "cell_type": "code",
   "execution_count": 234,
   "id": "1f639d57-6007-4c64-b09a-8d715b7eefd0",
   "metadata": {},
   "outputs": [],
   "source": [
    "import seaborn as sns\n",
    "import os\n",
    "import matplotlib.pyplot as plt\n",
    "import statistics as stat"
   ]
  },
  {
   "cell_type": "code",
   "execution_count": 235,
   "id": "b243c409-bbac-45f8-b4f3-7b8765d41a89",
   "metadata": {},
   "outputs": [
    {
     "data": {
      "text/html": [
       "<div>\n",
       "<style scoped>\n",
       "    .dataframe tbody tr th:only-of-type {\n",
       "        vertical-align: middle;\n",
       "    }\n",
       "\n",
       "    .dataframe tbody tr th {\n",
       "        vertical-align: top;\n",
       "    }\n",
       "\n",
       "    .dataframe thead th {\n",
       "        text-align: right;\n",
       "    }\n",
       "</style>\n",
       "<table border=\"1\" class=\"dataframe\">\n",
       "  <thead>\n",
       "    <tr style=\"text-align: right;\">\n",
       "      <th></th>\n",
       "      <th>Entity</th>\n",
       "      <th>Year</th>\n",
       "      <th>LifeExpectancy</th>\n",
       "      <th>color_filter</th>\n",
       "    </tr>\n",
       "  </thead>\n",
       "  <tbody>\n",
       "    <tr>\n",
       "      <th>0</th>\n",
       "      <td>Australia</td>\n",
       "      <td>1802</td>\n",
       "      <td>34.049999</td>\n",
       "      <td>1</td>\n",
       "    </tr>\n",
       "    <tr>\n",
       "      <th>137</th>\n",
       "      <td>Australia</td>\n",
       "      <td>1939</td>\n",
       "      <td>65.820000</td>\n",
       "      <td>1</td>\n",
       "    </tr>\n",
       "    <tr>\n",
       "      <th>138</th>\n",
       "      <td>Australia</td>\n",
       "      <td>1940</td>\n",
       "      <td>66.260002</td>\n",
       "      <td>1</td>\n",
       "    </tr>\n",
       "    <tr>\n",
       "      <th>139</th>\n",
       "      <td>Australia</td>\n",
       "      <td>1941</td>\n",
       "      <td>66.139999</td>\n",
       "      <td>1</td>\n",
       "    </tr>\n",
       "    <tr>\n",
       "      <th>140</th>\n",
       "      <td>Australia</td>\n",
       "      <td>1942</td>\n",
       "      <td>65.879997</td>\n",
       "      <td>1</td>\n",
       "    </tr>\n",
       "    <tr>\n",
       "      <th>...</th>\n",
       "      <td>...</td>\n",
       "      <td>...</td>\n",
       "      <td>...</td>\n",
       "      <td>...</td>\n",
       "    </tr>\n",
       "    <tr>\n",
       "      <th>3112</th>\n",
       "      <td>United States</td>\n",
       "      <td>1876</td>\n",
       "      <td>39.410000</td>\n",
       "      <td>1</td>\n",
       "    </tr>\n",
       "    <tr>\n",
       "      <th>3113</th>\n",
       "      <td>United States</td>\n",
       "      <td>1877</td>\n",
       "      <td>39.410000</td>\n",
       "      <td>1</td>\n",
       "    </tr>\n",
       "    <tr>\n",
       "      <th>3114</th>\n",
       "      <td>United States</td>\n",
       "      <td>1878</td>\n",
       "      <td>39.410000</td>\n",
       "      <td>1</td>\n",
       "    </tr>\n",
       "    <tr>\n",
       "      <th>3103</th>\n",
       "      <td>United States</td>\n",
       "      <td>1867</td>\n",
       "      <td>39.410000</td>\n",
       "      <td>1</td>\n",
       "    </tr>\n",
       "    <tr>\n",
       "      <th>3252</th>\n",
       "      <td>United States</td>\n",
       "      <td>2016</td>\n",
       "      <td>78.860001</td>\n",
       "      <td>1</td>\n",
       "    </tr>\n",
       "  </tbody>\n",
       "</table>\n",
       "<p>3253 rows × 4 columns</p>\n",
       "</div>"
      ],
      "text/plain": [
       "             Entity  Year  LifeExpectancy  color_filter\n",
       "0         Australia  1802       34.049999             1\n",
       "137       Australia  1939       65.820000             1\n",
       "138       Australia  1940       66.260002             1\n",
       "139       Australia  1941       66.139999             1\n",
       "140       Australia  1942       65.879997             1\n",
       "...             ...   ...             ...           ...\n",
       "3112  United States  1876       39.410000             1\n",
       "3113  United States  1877       39.410000             1\n",
       "3114  United States  1878       39.410000             1\n",
       "3103  United States  1867       39.410000             1\n",
       "3252  United States  2016       78.860001             1\n",
       "\n",
       "[3253 rows x 4 columns]"
      ]
     },
     "execution_count": 235,
     "metadata": {},
     "output_type": "execute_result"
    }
   ],
   "source": [
    "def load_and_process(path):\n",
    "    df1 = (\n",
    "            pd.read_csv(path)\n",
    "            .rename(columns={\"LifeExp\":\"LifeExpectancy\"})\n",
    "            .dropna()\n",
    "            .sort_values(\"Entity\", ascending=True)\n",
    "    )\n",
    "    df2 = (\n",
    "            df1\n",
    "            .assign(color_filter=lambda x: np.where((x.Year > 1800) & (x.LifeExpectancy > 0), 1, 0))\n",
    "    )\n",
    "    \n",
    "    return df2\n",
    "\n",
    "load_and_process('LifeExpectancy.csv')"
   ]
  },
  {
   "cell_type": "markdown",
   "id": "a073b7ac-f2ba-4b4c-b7a9-3b3ca49aa5ae",
   "metadata": {},
   "source": [
    "TASK 3"
   ]
  },
  {
   "cell_type": "code",
   "execution_count": 237,
   "id": "01d2bee5-6df2-4bfb-8fb6-23800f4b0d0f",
   "metadata": {},
   "outputs": [
    {
     "name": "stderr",
     "output_type": "stream",
     "text": [
      "*c* argument looks like a single numeric RGB or RGBA sequence, which should be avoided as value-mapping will have precedence in case its length matches with *x* & *y*.  Please use the *color* keyword-argument or provide a 2D array with a single row if you intend to specify the same RGB or RGBA value for all points.\n"
     ]
    },
    {
     "data": {
      "text/plain": [
       "Text(0.5, 1.0, 'Scatter Plot of Each Country with its Corresponding Life Expectancy Average')"
      ]
     },
     "execution_count": 237,
     "metadata": {},
     "output_type": "execute_result"
    },
    {
     "data": {
      "image/png": "[encoded data removed]",
      "text/plain": [
       "<Figure size 432x288 with 1 Axes>"
      ]
     },
     "metadata": {},
     "output_type": "display_data"
    }
   ],
   "source": [
    "df2.plot(kind='scatter', x='Country', y='LifeExpAvg')\n",
    "plt.xticks(rotation=45)\n",
    "plt.title('Scatter Plot of Each Country with its Corresponding Life Expectancy Average')"
   ]
  },
  {
   "cell_type": "code",
   "execution_count": 241,
   "id": "52faa2e0-d49c-44ea-9d6a-c7cb1270336f",
   "metadata": {},
   "outputs": [
    {
     "data": {
      "text/html": [
       "<div>\n",
       "<style scoped>\n",
       "    .dataframe tbody tr th:only-of-type {\n",
       "        vertical-align: middle;\n",
       "    }\n",
       "\n",
       "    .dataframe tbody tr th {\n",
       "        vertical-align: top;\n",
       "    }\n",
       "\n",
       "    .dataframe thead th {\n",
       "        text-align: right;\n",
       "    }\n",
       "</style>\n",
       "<table border=\"1\" class=\"dataframe\">\n",
       "  <thead>\n",
       "    <tr style=\"text-align: right;\">\n",
       "      <th></th>\n",
       "      <th>Country</th>\n",
       "      <th>LifeExpectancy</th>\n",
       "      <th>Year</th>\n",
       "      <th>LifeExpAvg</th>\n",
       "    </tr>\n",
       "  </thead>\n",
       "  <tbody>\n",
       "    <tr>\n",
       "      <th>569</th>\n",
       "      <td>Canada</td>\n",
       "      <td>39.001495</td>\n",
       "      <td>1801</td>\n",
       "      <td>55.778533</td>\n",
       "    </tr>\n",
       "    <tr>\n",
       "      <th>570</th>\n",
       "      <td>Canada</td>\n",
       "      <td>39.002995</td>\n",
       "      <td>1802</td>\n",
       "      <td>55.778533</td>\n",
       "    </tr>\n",
       "    <tr>\n",
       "      <th>571</th>\n",
       "      <td>Canada</td>\n",
       "      <td>39.004490</td>\n",
       "      <td>1803</td>\n",
       "      <td>55.778533</td>\n",
       "    </tr>\n",
       "    <tr>\n",
       "      <th>572</th>\n",
       "      <td>Canada</td>\n",
       "      <td>39.005985</td>\n",
       "      <td>1804</td>\n",
       "      <td>55.778533</td>\n",
       "    </tr>\n",
       "    <tr>\n",
       "      <th>573</th>\n",
       "      <td>Canada</td>\n",
       "      <td>39.007484</td>\n",
       "      <td>1805</td>\n",
       "      <td>55.778533</td>\n",
       "    </tr>\n",
       "    <tr>\n",
       "      <th>...</th>\n",
       "      <td>...</td>\n",
       "      <td>...</td>\n",
       "      <td>...</td>\n",
       "      <td>...</td>\n",
       "    </tr>\n",
       "    <tr>\n",
       "      <th>504</th>\n",
       "      <td>Canada</td>\n",
       "      <td>81.660004</td>\n",
       "      <td>2012</td>\n",
       "      <td>55.778533</td>\n",
       "    </tr>\n",
       "    <tr>\n",
       "      <th>505</th>\n",
       "      <td>Canada</td>\n",
       "      <td>81.750000</td>\n",
       "      <td>2013</td>\n",
       "      <td>55.778533</td>\n",
       "    </tr>\n",
       "    <tr>\n",
       "      <th>506</th>\n",
       "      <td>Canada</td>\n",
       "      <td>81.790001</td>\n",
       "      <td>2014</td>\n",
       "      <td>55.778533</td>\n",
       "    </tr>\n",
       "    <tr>\n",
       "      <th>507</th>\n",
       "      <td>Canada</td>\n",
       "      <td>81.769997</td>\n",
       "      <td>2015</td>\n",
       "      <td>55.778533</td>\n",
       "    </tr>\n",
       "    <tr>\n",
       "      <th>535</th>\n",
       "      <td>Canada</td>\n",
       "      <td>81.849998</td>\n",
       "      <td>2016</td>\n",
       "      <td>55.778533</td>\n",
       "    </tr>\n",
       "  </tbody>\n",
       "</table>\n",
       "<p>216 rows × 4 columns</p>\n",
       "</div>"
      ],
      "text/plain": [
       "    Country  LifeExpectancy  Year  LifeExpAvg\n",
       "569  Canada       39.001495  1801   55.778533\n",
       "570  Canada       39.002995  1802   55.778533\n",
       "571  Canada       39.004490  1803   55.778533\n",
       "572  Canada       39.005985  1804   55.778533\n",
       "573  Canada       39.007484  1805   55.778533\n",
       "..      ...             ...   ...         ...\n",
       "504  Canada       81.660004  2012   55.778533\n",
       "505  Canada       81.750000  2013   55.778533\n",
       "506  Canada       81.790001  2014   55.778533\n",
       "507  Canada       81.769997  2015   55.778533\n",
       "535  Canada       81.849998  2016   55.778533\n",
       "\n",
       "[216 rows x 4 columns]"
      ]
     },
     "execution_count": 241,
     "metadata": {},
     "output_type": "execute_result"
    }
   ],
   "source": [
    "df2_Canada = df2[(df2['Country'] == 'Canada')]\n",
    "df2_Canada.sort_values(by=['Year'])"
   ]
  },
  {
   "cell_type": "code",
   "execution_count": 243,
   "id": "4924f981-fb64-4afe-93fa-e71898837086",
   "metadata": {},
   "outputs": [
    {
     "data": {
      "text/plain": [
       "Text(0.5, 1.0, 'Life Expectancy over  216 years in Canada')"
      ]
     },
     "execution_count": 243,
     "metadata": {},
     "output_type": "execute_result"
    },
    {
     "data": {
      "image/png": "[encoded data removed]",
      "text/plain": [
       "<Figure size 432x288 with 1 Axes>"
      ]
     },
     "metadata": {},
     "output_type": "display_data"
    }
   ],
   "source": [
    "sns.set(font_scale = 1)\n",
    "sns.set_style('white')\n",
    "sns.lineplot(x='Year', y='LifeExpectancy', data=df2_Canada, legend='full')\n",
    "plt.title('Life Expectancy over  216 years in Canada')"
   ]
  },
  {
   "cell_type": "code",
   "execution_count": 244,
   "id": "d11f2ebe-2240-4fd3-bf94-e84040dfa082",
   "metadata": {},
   "outputs": [
    {
     "data": {
      "text/html": [
       "<div>\n",
       "<style scoped>\n",
       "    .dataframe tbody tr th:only-of-type {\n",
       "        vertical-align: middle;\n",
       "    }\n",
       "\n",
       "    .dataframe tbody tr th {\n",
       "        vertical-align: top;\n",
       "    }\n",
       "\n",
       "    .dataframe thead th {\n",
       "        text-align: right;\n",
       "    }\n",
       "</style>\n",
       "<table border=\"1\" class=\"dataframe\">\n",
       "  <thead>\n",
       "    <tr style=\"text-align: right;\">\n",
       "      <th></th>\n",
       "      <th>Country</th>\n",
       "      <th>LifeExpectancy</th>\n",
       "      <th>Year</th>\n",
       "      <th>LifeExpAvg</th>\n",
       "    </tr>\n",
       "  </thead>\n",
       "  <tbody>\n",
       "    <tr>\n",
       "      <th>1863</th>\n",
       "      <td>Japan</td>\n",
       "      <td>36.400398</td>\n",
       "      <td>1801</td>\n",
       "      <td>50.345707</td>\n",
       "    </tr>\n",
       "    <tr>\n",
       "      <th>1864</th>\n",
       "      <td>Japan</td>\n",
       "      <td>36.400795</td>\n",
       "      <td>1802</td>\n",
       "      <td>50.345707</td>\n",
       "    </tr>\n",
       "    <tr>\n",
       "      <th>1865</th>\n",
       "      <td>Japan</td>\n",
       "      <td>36.401192</td>\n",
       "      <td>1803</td>\n",
       "      <td>50.345707</td>\n",
       "    </tr>\n",
       "    <tr>\n",
       "      <th>1866</th>\n",
       "      <td>Japan</td>\n",
       "      <td>36.401588</td>\n",
       "      <td>1804</td>\n",
       "      <td>50.345707</td>\n",
       "    </tr>\n",
       "    <tr>\n",
       "      <th>1867</th>\n",
       "      <td>Japan</td>\n",
       "      <td>36.401989</td>\n",
       "      <td>1805</td>\n",
       "      <td>50.345707</td>\n",
       "    </tr>\n",
       "    <tr>\n",
       "      <th>...</th>\n",
       "      <td>...</td>\n",
       "      <td>...</td>\n",
       "      <td>...</td>\n",
       "      <td>...</td>\n",
       "    </tr>\n",
       "    <tr>\n",
       "      <th>1799</th>\n",
       "      <td>Japan</td>\n",
       "      <td>83.230003</td>\n",
       "      <td>2012</td>\n",
       "      <td>50.345707</td>\n",
       "    </tr>\n",
       "    <tr>\n",
       "      <th>1800</th>\n",
       "      <td>Japan</td>\n",
       "      <td>83.440002</td>\n",
       "      <td>2013</td>\n",
       "      <td>50.345707</td>\n",
       "    </tr>\n",
       "    <tr>\n",
       "      <th>1801</th>\n",
       "      <td>Japan</td>\n",
       "      <td>83.690002</td>\n",
       "      <td>2014</td>\n",
       "      <td>50.345707</td>\n",
       "    </tr>\n",
       "    <tr>\n",
       "      <th>1802</th>\n",
       "      <td>Japan</td>\n",
       "      <td>83.830002</td>\n",
       "      <td>2015</td>\n",
       "      <td>50.345707</td>\n",
       "    </tr>\n",
       "    <tr>\n",
       "      <th>1834</th>\n",
       "      <td>Japan</td>\n",
       "      <td>83.940002</td>\n",
       "      <td>2016</td>\n",
       "      <td>50.345707</td>\n",
       "    </tr>\n",
       "  </tbody>\n",
       "</table>\n",
       "<p>216 rows × 4 columns</p>\n",
       "</div>"
      ],
      "text/plain": [
       "     Country  LifeExpectancy  Year  LifeExpAvg\n",
       "1863   Japan       36.400398  1801   50.345707\n",
       "1864   Japan       36.400795  1802   50.345707\n",
       "1865   Japan       36.401192  1803   50.345707\n",
       "1866   Japan       36.401588  1804   50.345707\n",
       "1867   Japan       36.401989  1805   50.345707\n",
       "...      ...             ...   ...         ...\n",
       "1799   Japan       83.230003  2012   50.345707\n",
       "1800   Japan       83.440002  2013   50.345707\n",
       "1801   Japan       83.690002  2014   50.345707\n",
       "1802   Japan       83.830002  2015   50.345707\n",
       "1834   Japan       83.940002  2016   50.345707\n",
       "\n",
       "[216 rows x 4 columns]"
      ]
     },
     "execution_count": 244,
     "metadata": {},
     "output_type": "execute_result"
    }
   ],
   "source": [
    "df2_Japan = df2[(df2['Country'] == 'Japan')]\n",
    "df2_Japan.sort_values(by=['Year'])"
   ]
  },
  {
   "cell_type": "code",
   "execution_count": 245,
   "id": "29fb2099-3629-4806-a573-747edf16a003",
   "metadata": {},
   "outputs": [
    {
     "data": {
      "text/plain": [
       "Text(0.5, 1.0, 'Life Expectancy over  216 years in Japan')"
      ]
     },
     "execution_count": 245,
     "metadata": {},
     "output_type": "execute_result"
    },
    {
     "data": {
      "image/png": "[encoded data removed]",
      "text/plain": [
       "<Figure size 432x288 with 1 Axes>"
      ]
     },
     "metadata": {},
     "output_type": "display_data"
    }
   ],
   "source": [
    "sns.set(font_scale = 1)\n",
    "sns.set_style('white')\n",
    "sns.lineplot(x='Year', y='LifeExpectancy', data=df2_Japan, legend='full')\n",
    "plt.title('Life Expectancy over  216 years in Japan')"
   ]
  },
  {
   "cell_type": "code",
   "execution_count": 212,
   "id": "bf4888ae-2ce6-4727-8b54-3bb56e8a3181",
   "metadata": {},
   "outputs": [
    {
     "data": {
      "text/plain": [
       "Text(0.5, 1.0, 'The Life Expectancy Average for the 15 Different Countries')"
      ]
     },
     "execution_count": 212,
     "metadata": {},
     "output_type": "execute_result"
    },
    {
     "data": {
      "image/png": "[encoded data removed]",
      "text/plain": [
       "<Figure size 432x288 with 1 Axes>"
      ]
     },
     "metadata": {},
     "output_type": "display_data"
    }
   ],
   "source": [
    "df = pd.DataFrame({'Country': ['Australia', 'Brazil', 'Canada', 'China', 'France', 'Germany', 'India', 'Italy', 'Japan', 'Mexico', 'Russia', 'Spain', 'Switzerland', 'United Kingdom', 'United States'], 'LifeExpAvg':[54.290000, 42.392292, 55.778533, 41.452839, 53.691717, 52.880939, 34.292578, 49.226360, 50.345707, 40.835629, 41.992980, 47.588779, 55.246037, 55.591947, 54.651060]})\n",
    "ax = df.plot.bar(x='Country', y='LifeExpAvg', rot=90)\n",
    "plt.ylabel('Life Expectancy Average')\n",
    "plt.title('The Life Expectancy Average for the 15 Different Countries')"
   ]
  },
  {
   "cell_type": "code",
   "execution_count": 213,
   "id": "36be7e6f-c6fb-478e-baa1-564b6fb2d844",
   "metadata": {},
   "outputs": [],
   "source": [
    "#TASK 4\n",
    "\n",
    "#QUESTION -- What can the dataset tell us about the countries well being?\n",
    "\n",
    "#The dataset tells us that over the years (from 1800 to 2016), the average life expectancy has inreased in all 15 major countries. With that information, we can research and find out the different factors that would contribute to the increase in life expectancy in specific years. According to the pairplot, we can clearly see that over the years the life expectancy is increasing, with a significant slope between the years 1900-1950. Lots of industralizations have occured during those years, and we believe that is one of the reasons why there is a big jump in an increase of life expectancy. "
   ]
  },
  {
   "cell_type": "markdown",
   "id": "2865106e-c284-41ba-a673-3abf88fa26ac",
   "metadata": {},
   "source": [
    "TASK 4"
   ]
  },
  {
   "cell_type": "markdown",
   "id": "131fdbb4-d59b-4d2f-a205-f894ae0f8c7e",
   "metadata": {},
   "source": [
    "Question 1: What country has the lowest and highest life expectancy, and why?"
   ]
  },
  {
   "cell_type": "markdown",
   "id": "0e097bf2-daa0-43de-9ed9-d1dc62849f85",
   "metadata": {},
   "source": [
    "From both the scatter plot and bar graph, India has represented the lowest life expectancy. In contrary, Canada, United Kingdom and Switzerland has presented the highest life expectancy. This is expected as India is a developing country, and the other three are developed countries. When looking at the bar graph, it is clearly shown that devleoped countries have higher life expectancy, compared to devloping countries. "
   ]
  },
  {
   "cell_type": "markdown",
   "id": "c85c598e-4370-48a9-a1ac-c2a541d9fc30",
   "metadata": {},
   "source": [
    "Question 2: Between the 15 different countries, were there any events that had an effect on the life expectancy?"
   ]
  },
  {
   "cell_type": "markdown",
   "id": "21d9ccd5-4112-44f0-8c46-5fd2f747960e",
   "metadata": {},
   "source": [
    "From the line graph, we were able to see that there was a dip in life expectancy around the year 1920 for the countries Canada and Japan (from the line graph we have created above). From our research, there was a signifcant global event that happened between the years 1918-1920, which was the Spanish Flu. The Spanish Flu was a worldwide pandemic, which cost 50 million deaths around the world. "
   ]
  },
  {
   "cell_type": "code",
   "execution_count": null,
   "id": "90aa25bb-7be5-4469-b3f7-febca04125c2",
   "metadata": {},
   "outputs": [],
   "source": []
  }
 ],
 "metadata": {
  "kernelspec": {
   "display_name": "Python 3 (ipykernel)",
   "language": "python",
   "name": "python3"
  },
  "language_info": {
   "codemirror_mode": {
    "name": "ipython",
    "version": 3
   },
   "file_extension": ".py",
   "mimetype": "text/x-python",
   "name": "python",
   "nbconvert_exporter": "python",
   "pygments_lexer": "ipython3",
   "version": "3.8.5"
  }
 },
 "nbformat": 4,
 "nbformat_minor": 5
}
